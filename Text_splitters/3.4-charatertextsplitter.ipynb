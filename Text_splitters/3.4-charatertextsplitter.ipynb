{
 "cells": [
  {
   "cell_type": "code",
   "execution_count": 3,
   "metadata": {},
   "outputs": [
    {
     "data": {
      "text/plain": [
       "[Document(metadata={'source': 'speech.txt'}, page_content=\"Speech is the use of the human voice as a medium for language. \\nSpoken language combines vowel and consonant sounds to form units of meaning like words, which belong to a language's lexicon. \\nThere are many different intentional speech acts, such as informing, declaring, asking, persuading, directing; acts may vary in various \\naspects like enunciation, intonation, loudness, and tempo to convey meaning. \\nIndividuals may also unintentionally communicate aspects of their social position through speech, such as sex, age, place of origin,\\n physiological and mental condition, education, and experiences.\\n\\nWhile normally used to facilitate communication with others, people may also use speech without the intent to communicate. \\nSpeech may nevertheless express emotions or desires; people talk to themselves sometimes in acts that are a development of what\\nsome psychologists (e.g., Lev Vygotsky) have maintained is the use of silent speech in an interior monologue to vivify and \\norganize cognition, sometimes in the momentary adoption of a dual persona as self addressing self as though addressing another person. \\nSolo speech can be used to memorize or to test one's memorization of things, and in prayer or in meditation.\")]"
      ]
     },
     "execution_count": 3,
     "metadata": {},
     "output_type": "execute_result"
    }
   ],
   "source": [
    "from langchain_community.document_loaders import TextLoader\n",
    "loader = TextLoader('speech.txt')\n",
    "docs = loader.load()\n",
    "docs"
   ]
  },
  {
   "cell_type": "code",
   "execution_count": 5,
   "metadata": {},
   "outputs": [
    {
     "name": "stderr",
     "output_type": "stream",
     "text": [
      "Created a chunk of size 127, which is longer than the specified 100\n",
      "Created a chunk of size 136, which is longer than the specified 100\n",
      "Created a chunk of size 132, which is longer than the specified 100\n",
      "Created a chunk of size 123, which is longer than the specified 100\n",
      "Created a chunk of size 127, which is longer than the specified 100\n",
      "Created a chunk of size 123, which is longer than the specified 100\n",
      "Created a chunk of size 135, which is longer than the specified 100\n"
     ]
    },
    {
     "data": {
      "text/plain": [
       "[Document(metadata={'source': 'speech.txt'}, page_content='Speech is the use of the human voice as a medium for language.'),\n",
       " Document(metadata={'source': 'speech.txt'}, page_content=\"Spoken language combines vowel and consonant sounds to form units of meaning like words, which belong to a language's lexicon.\"),\n",
       " Document(metadata={'source': 'speech.txt'}, page_content='There are many different intentional speech acts, such as informing, declaring, asking, persuading, directing; acts may vary in various'),\n",
       " Document(metadata={'source': 'speech.txt'}, page_content='aspects like enunciation, intonation, loudness, and tempo to convey meaning.'),\n",
       " Document(metadata={'source': 'speech.txt'}, page_content='Individuals may also unintentionally communicate aspects of their social position through speech, such as sex, age, place of origin,'),\n",
       " Document(metadata={'source': 'speech.txt'}, page_content='physiological and mental condition, education, and experiences.'),\n",
       " Document(metadata={'source': 'speech.txt'}, page_content='While normally used to facilitate communication with others, people may also use speech without the intent to communicate.'),\n",
       " Document(metadata={'source': 'speech.txt'}, page_content='Speech may nevertheless express emotions or desires; people talk to themselves sometimes in acts that are a development of what'),\n",
       " Document(metadata={'source': 'speech.txt'}, page_content='some psychologists (e.g., Lev Vygotsky) have maintained is the use of silent speech in an interior monologue to vivify and'),\n",
       " Document(metadata={'source': 'speech.txt'}, page_content='organize cognition, sometimes in the momentary adoption of a dual persona as self addressing self as though addressing another person.'),\n",
       " Document(metadata={'source': 'speech.txt'}, page_content=\"Solo speech can be used to memorize or to test one's memorization of things, and in prayer or in meditation.\")]"
      ]
     },
     "execution_count": 5,
     "metadata": {},
     "output_type": "execute_result"
    }
   ],
   "source": [
    "from langchain_text_splitters import CharacterTextSplitter\n",
    "\n",
    "text_splitter = CharacterTextSplitter(separator=\"\\n\", chunk_size = 100, chunk_overlap = 20)\n",
    "text_splitter.split_documents(docs)"
   ]
  },
  {
   "cell_type": "code",
   "execution_count": null,
   "metadata": {},
   "outputs": [],
   "source": []
  }
 ],
 "metadata": {
  "kernelspec": {
   "display_name": "Python 3",
   "language": "python",
   "name": "python3"
  },
  "language_info": {
   "codemirror_mode": {
    "name": "ipython",
    "version": 3
   },
   "file_extension": ".py",
   "mimetype": "text/x-python",
   "name": "python",
   "nbconvert_exporter": "python",
   "pygments_lexer": "ipython3",
   "version": "3.10.0"
  }
 },
 "nbformat": 4,
 "nbformat_minor": 2
}
