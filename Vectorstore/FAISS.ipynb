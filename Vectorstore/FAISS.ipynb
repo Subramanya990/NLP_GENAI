{
 "cells": [
  {
   "cell_type": "code",
   "execution_count": 5,
   "metadata": {},
   "outputs": [
    {
     "name": "stderr",
     "output_type": "stream",
     "text": [
      "Created a chunk of size 604, which is longer than the specified 500\n"
     ]
    }
   ],
   "source": [
    "from langchain_community.document_loaders import TextLoader\n",
    "from langchain_community.vectorstores import FAISS\n",
    "from langchain_community.embeddings import OllamaEmbeddings\n",
    "from langchain_text_splitters import CharacterTextSplitter\n",
    "\n",
    "loader = TextLoader(\"speech.txt\")\n",
    "documents = loader.load()\n",
    "\n",
    "text_splitter = CharacterTextSplitter(chunk_size=500, chunk_overlap=30)\n",
    "docs = text_splitter.split_documents(documents)\n"
   ]
  },
  {
   "cell_type": "code",
   "execution_count": 6,
   "metadata": {},
   "outputs": [
    {
     "data": {
      "text/plain": [
       "[Document(metadata={'source': 'speech.txt'}, page_content=\"Speech is the use of the human voice as a medium for language. \\nSpoken language combines vowel and consonant sounds to form units of meaning like words, which belong to a language's lexicon. \\nThere are many different intentional speech acts, such as informing, declaring, asking, persuading, directing; acts may vary in various \\naspects like enunciation, intonation, loudness, and tempo to convey meaning. \\nIndividuals may also unintentionally communicate aspects of their social position through speech, such as sex, age, place of origin,\\n physiological and mental condition, education, and experiences.\"),\n",
       " Document(metadata={'source': 'speech.txt'}, page_content=\"While normally used to facilitate communication with others, people may also use speech without the intent to communicate. \\nSpeech may nevertheless express emotions or desires; people talk to themselves sometimes in acts that are a development of what\\nsome psychologists (e.g., Lev Vygotsky) have maintained is the use of silent speech in an interior monologue to vivify and \\norganize cognition, sometimes in the momentary adoption of a dual persona as self addressing self as though addressing another person. \\nSolo speech can be used to memorize or to test one's memorization of things, and in prayer or in meditation.\")]"
      ]
     },
     "execution_count": 6,
     "metadata": {},
     "output_type": "execute_result"
    }
   ],
   "source": [
    "docs"
   ]
  },
  {
   "cell_type": "code",
   "execution_count": 10,
   "metadata": {},
   "outputs": [
    {
     "data": {
      "text/plain": [
       "<langchain_community.vectorstores.faiss.FAISS at 0x2a6773b7520>"
      ]
     },
     "execution_count": 10,
     "metadata": {},
     "output_type": "execute_result"
    }
   ],
   "source": [
    "embeddings = OllamaEmbeddings(model = \"gemma:2b\")\n",
    "db = FAISS.from_documents(docs,embeddings)\n",
    "db"
   ]
  },
  {
   "cell_type": "code",
   "execution_count": 15,
   "metadata": {},
   "outputs": [
    {
     "data": {
      "text/plain": [
       "\"Speech is the use of the human voice as a medium for language. \\nSpoken language combines vowel and consonant sounds to form units of meaning like words, which belong to a language's lexicon. \\nThere are many different intentional speech acts, such as informing, declaring, asking, persuading, directing; acts may vary in various \\naspects like enunciation, intonation, loudness, and tempo to convey meaning. \\nIndividuals may also unintentionally communicate aspects of their social position through speech, such as sex, age, place of origin,\\n physiological and mental condition, education, and experiences.\""
      ]
     },
     "execution_count": 15,
     "metadata": {},
     "output_type": "execute_result"
    }
   ],
   "source": [
    "##querying\n",
    "\n",
    "query = \"There are many different intentional speech acts, such as informing, declaring, asking, persuading, directing; acts may vary in various /\" \\\n",
    "\"aspects like enunciation, intonation, loudness, and tempo to convey meaning.\"\n",
    "\n",
    "docs = db.similarity_search(query)\n",
    "docs[0].page_content"
   ]
  },
  {
   "cell_type": "code",
   "execution_count": 17,
   "metadata": {},
   "outputs": [
    {
     "data": {
      "text/plain": [
       "\"Speech is the use of the human voice as a medium for language. \\nSpoken language combines vowel and consonant sounds to form units of meaning like words, which belong to a language's lexicon. \\nThere are many different intentional speech acts, such as informing, declaring, asking, persuading, directing; acts may vary in various \\naspects like enunciation, intonation, loudness, and tempo to convey meaning. \\nIndividuals may also unintentionally communicate aspects of their social position through speech, such as sex, age, place of origin,\\n physiological and mental condition, education, and experiences.\""
      ]
     },
     "execution_count": 17,
     "metadata": {},
     "output_type": "execute_result"
    }
   ],
   "source": [
    "retriver = db.as_retriever()\n",
    "docs = retriver.invoke(query)\n",
    "docs[0].page_content"
   ]
  },
  {
   "cell_type": "code",
   "execution_count": 18,
   "metadata": {},
   "outputs": [
    {
     "data": {
      "text/plain": [
       "[(Document(id='49f0a7a8-e953-4529-9861-3b05af0f1044', metadata={'source': 'speech.txt'}, page_content=\"Speech is the use of the human voice as a medium for language. \\nSpoken language combines vowel and consonant sounds to form units of meaning like words, which belong to a language's lexicon. \\nThere are many different intentional speech acts, such as informing, declaring, asking, persuading, directing; acts may vary in various \\naspects like enunciation, intonation, loudness, and tempo to convey meaning. \\nIndividuals may also unintentionally communicate aspects of their social position through speech, such as sex, age, place of origin,\\n physiological and mental condition, education, and experiences.\"),\n",
       "  np.float32(1983.5215)),\n",
       " (Document(id='82013291-4527-4649-a040-5361a9ca6054', metadata={'source': 'speech.txt'}, page_content=\"While normally used to facilitate communication with others, people may also use speech without the intent to communicate. \\nSpeech may nevertheless express emotions or desires; people talk to themselves sometimes in acts that are a development of what\\nsome psychologists (e.g., Lev Vygotsky) have maintained is the use of silent speech in an interior monologue to vivify and \\norganize cognition, sometimes in the momentary adoption of a dual persona as self addressing self as though addressing another person. \\nSolo speech can be used to memorize or to test one's memorization of things, and in prayer or in meditation.\"),\n",
       "  np.float32(2444.2683))]"
      ]
     },
     "execution_count": 18,
     "metadata": {},
     "output_type": "execute_result"
    }
   ],
   "source": [
    "docs_score = db.similarity_search_with_score(query)\n",
    "docs_score"
   ]
  },
  {
   "cell_type": "code",
   "execution_count": 22,
   "metadata": {},
   "outputs": [
    {
     "data": {
      "text/plain": [
       "\"Speech is the use of the human voice as a medium for language. \\nSpoken language combines vowel and consonant sounds to form units of meaning like words, which belong to a language's lexicon. \\nThere are many different intentional speech acts, such as informing, declaring, asking, persuading, directing; acts may vary in various \\naspects like enunciation, intonation, loudness, and tempo to convey meaning. \\nIndividuals may also unintentionally communicate aspects of their social position through speech, such as sex, age, place of origin,\\n physiological and mental condition, education, and experiences.\""
      ]
     },
     "execution_count": 22,
     "metadata": {},
     "output_type": "execute_result"
    }
   ],
   "source": [
    "embeddings_vec = embeddings.embed_query(query)\n",
    "embeddings_vec\n",
    "\n",
    "docs_score = db.similarity_search_by_vector(embeddings_vec)\n",
    "docs_score[0].page_content"
   ]
  },
  {
   "cell_type": "code",
   "execution_count": 23,
   "metadata": {},
   "outputs": [],
   "source": [
    "## Saving and Loading \n",
    "\n",
    "db.save_local(\"Faiss_index\")"
   ]
  },
  {
   "cell_type": "code",
   "execution_count": 28,
   "metadata": {},
   "outputs": [
    {
     "data": {
      "text/plain": [
       "\"Speech is the use of the human voice as a medium for language. \\nSpoken language combines vowel and consonant sounds to form units of meaning like words, which belong to a language's lexicon. \\nThere are many different intentional speech acts, such as informing, declaring, asking, persuading, directing; acts may vary in various \\naspects like enunciation, intonation, loudness, and tempo to convey meaning. \\nIndividuals may also unintentionally communicate aspects of their social position through speech, such as sex, age, place of origin,\\n physiological and mental condition, education, and experiences.\""
      ]
     },
     "execution_count": 28,
     "metadata": {},
     "output_type": "execute_result"
    }
   ],
   "source": [
    "new_db = FAISS.load_local(\"Faiss_index\",embeddings, allow_dangerous_deserialization=True)\n",
    "doc = new_db.similarity_search(query)\n",
    "doc[0].page_content"
   ]
  },
  {
   "cell_type": "code",
   "execution_count": null,
   "metadata": {},
   "outputs": [],
   "source": []
  }
 ],
 "metadata": {
  "kernelspec": {
   "display_name": "Python 3",
   "language": "python",
   "name": "python3"
  },
  "language_info": {
   "codemirror_mode": {
    "name": "ipython",
    "version": 3
   },
   "file_extension": ".py",
   "mimetype": "text/x-python",
   "name": "python",
   "nbconvert_exporter": "python",
   "pygments_lexer": "ipython3",
   "version": "3.10.0"
  }
 },
 "nbformat": 4,
 "nbformat_minor": 2
}
