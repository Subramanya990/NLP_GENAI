{
 "cells": [
  {
   "cell_type": "code",
   "execution_count": 3,
   "metadata": {},
   "outputs": [],
   "source": [
    "from langchain_chroma import Chroma\n",
    "from langchain_community.embeddings import OllamaEmbeddings\n",
    "from langchain_text_splitters import RecursiveCharacterTextSplitter\n",
    "from langchain_community.document_loaders import TextLoader\n"
   ]
  },
  {
   "cell_type": "code",
   "execution_count": 5,
   "metadata": {},
   "outputs": [
    {
     "data": {
      "text/plain": [
       "[Document(metadata={'source': 'speech.txt'}, page_content=\"Speech is the use of the human voice as a medium for language. \\nSpoken language combines vowel and consonant sounds to form units of meaning like words, which belong to a language's lexicon. \\nThere are many different intentional speech acts, such as informing, declaring, asking, persuading, directing; acts may vary in various \\naspects like enunciation, intonation, loudness, and tempo to convey meaning. \\nIndividuals may also unintentionally communicate aspects of their social position through speech, such as sex, age, place of origin,\\n physiological and mental condition, education, and experiences.\\n\\nWhile normally used to facilitate communication with others, people may also use speech without the intent to communicate. \\nSpeech may nevertheless express emotions or desires; people talk to themselves sometimes in acts that are a development of what\\nsome psychologists (e.g., Lev Vygotsky) have maintained is the use of silent speech in an interior monologue to vivify and \\norganize cognition, sometimes in the momentary adoption of a dual persona as self addressing self as though addressing another person. \\nSolo speech can be used to memorize or to test one's memorization of things, and in prayer or in meditation.\")]"
      ]
     },
     "execution_count": 5,
     "metadata": {},
     "output_type": "execute_result"
    }
   ],
   "source": [
    "loader = TextLoader(\"speech.txt\")\n",
    "docs = loader.load()\n",
    "docs"
   ]
  },
  {
   "cell_type": "code",
   "execution_count": 6,
   "metadata": {},
   "outputs": [],
   "source": [
    "text_splitter = RecursiveCharacterTextSplitter(chunk_size=500, chunk_overlap=30)\n",
    "splits = text_splitter.split_documents(docs)"
   ]
  },
  {
   "cell_type": "code",
   "execution_count": 7,
   "metadata": {},
   "outputs": [
    {
     "data": {
      "text/plain": [
       "[Document(metadata={'source': 'speech.txt'}, page_content=\"Speech is the use of the human voice as a medium for language. \\nSpoken language combines vowel and consonant sounds to form units of meaning like words, which belong to a language's lexicon. \\nThere are many different intentional speech acts, such as informing, declaring, asking, persuading, directing; acts may vary in various \\naspects like enunciation, intonation, loudness, and tempo to convey meaning.\"),\n",
       " Document(metadata={'source': 'speech.txt'}, page_content='Individuals may also unintentionally communicate aspects of their social position through speech, such as sex, age, place of origin,\\n physiological and mental condition, education, and experiences.'),\n",
       " Document(metadata={'source': 'speech.txt'}, page_content='While normally used to facilitate communication with others, people may also use speech without the intent to communicate. \\nSpeech may nevertheless express emotions or desires; people talk to themselves sometimes in acts that are a development of what\\nsome psychologists (e.g., Lev Vygotsky) have maintained is the use of silent speech in an interior monologue to vivify and'),\n",
       " Document(metadata={'source': 'speech.txt'}, page_content=\"organize cognition, sometimes in the momentary adoption of a dual persona as self addressing self as though addressing another person. \\nSolo speech can be used to memorize or to test one's memorization of things, and in prayer or in meditation.\")]"
      ]
     },
     "execution_count": 7,
     "metadata": {},
     "output_type": "execute_result"
    }
   ],
   "source": [
    "splits"
   ]
  },
  {
   "cell_type": "code",
   "execution_count": 8,
   "metadata": {},
   "outputs": [
    {
     "name": "stderr",
     "output_type": "stream",
     "text": [
      "C:\\Users\\admin\\AppData\\Local\\Temp\\ipykernel_14412\\629547164.py:1: LangChainDeprecationWarning: The class `OllamaEmbeddings` was deprecated in LangChain 0.3.1 and will be removed in 1.0.0. An updated version of the class exists in the :class:`~langchain-ollama package and should be used instead. To use it run `pip install -U :class:`~langchain-ollama` and import as `from :class:`~langchain_ollama import OllamaEmbeddings``.\n",
      "  embeddings = OllamaEmbeddings(model=\"gemma:2b\")\n"
     ]
    },
    {
     "data": {
      "text/plain": [
       "<langchain_chroma.vectorstores.Chroma at 0x1f87735f7f0>"
      ]
     },
     "execution_count": 8,
     "metadata": {},
     "output_type": "execute_result"
    }
   ],
   "source": [
    "embeddings = OllamaEmbeddings(model=\"gemma:2b\")\n",
    "vector = Chroma.from_documents(splits,embeddings)\n",
    "vector"
   ]
  },
  {
   "cell_type": "code",
   "execution_count": 9,
   "metadata": {},
   "outputs": [
    {
     "data": {
      "text/plain": [
       "\"Speech is the use of the human voice as a medium for language. \\nSpoken language combines vowel and consonant sounds to form units of meaning like words, which belong to a language's lexicon. \\nThere are many different intentional speech acts, such as informing, declaring, asking, persuading, directing; acts may vary in various \\naspects like enunciation, intonation, loudness, and tempo to convey meaning.\""
      ]
     },
     "execution_count": 9,
     "metadata": {},
     "output_type": "execute_result"
    }
   ],
   "source": [
    "## querying\n",
    "\n",
    "query = \"There are many different intentional speech acts, such as informing, declaring, asking, persuading, directing; acts may vary in various /\" \\\n",
    "\"aspects like enunciation, intonation, loudness, and tempo to convey meaning.\"\n",
    "\n",
    "q = vector.similarity_search(query)\n",
    "q[0].page_content"
   ]
  },
  {
   "cell_type": "code",
   "execution_count": 11,
   "metadata": {},
   "outputs": [],
   "source": [
    "## saving to disk\n",
    "\n",
    "vector = Chroma.from_documents(splits,embeddings,persist_directory=\"D:\\Langchain\\Vectorstore\\chormadb\")"
   ]
  },
  {
   "cell_type": "code",
   "execution_count": 12,
   "metadata": {},
   "outputs": [
    {
     "data": {
      "text/plain": [
       "\"Speech is the use of the human voice as a medium for language. \\nSpoken language combines vowel and consonant sounds to form units of meaning like words, which belong to a language's lexicon. \\nThere are many different intentional speech acts, such as informing, declaring, asking, persuading, directing; acts may vary in various \\naspects like enunciation, intonation, loudness, and tempo to convey meaning.\""
      ]
     },
     "execution_count": 12,
     "metadata": {},
     "output_type": "execute_result"
    }
   ],
   "source": [
    "#load from disk\n",
    "vec = Chroma(persist_directory=\"D:\\Langchain\\Vectorstore\\chormadb\",embedding_function=embeddings)\n",
    "docs = vec.similarity_search(query)\n",
    "docs[0].page_content"
   ]
  },
  {
   "cell_type": "code",
   "execution_count": 13,
   "metadata": {},
   "outputs": [
    {
     "data": {
      "text/plain": [
       "\"Speech is the use of the human voice as a medium for language. \\nSpoken language combines vowel and consonant sounds to form units of meaning like words, which belong to a language's lexicon. \\nThere are many different intentional speech acts, such as informing, declaring, asking, persuading, directing; acts may vary in various \\naspects like enunciation, intonation, loudness, and tempo to convey meaning.\""
      ]
     },
     "execution_count": 13,
     "metadata": {},
     "output_type": "execute_result"
    }
   ],
   "source": [
    "### Retriver \n",
    "retriver = vector.as_retriever()\n",
    "retriver.invoke(query)[0].page_content"
   ]
  },
  {
   "cell_type": "code",
   "execution_count": null,
   "metadata": {},
   "outputs": [],
   "source": []
  }
 ],
 "metadata": {
  "kernelspec": {
   "display_name": "Python 3",
   "language": "python",
   "name": "python3"
  },
  "language_info": {
   "codemirror_mode": {
    "name": "ipython",
    "version": 3
   },
   "file_extension": ".py",
   "mimetype": "text/x-python",
   "name": "python",
   "nbconvert_exporter": "python",
   "pygments_lexer": "ipython3",
   "version": "3.10.0"
  }
 },
 "nbformat": 4,
 "nbformat_minor": 2
}
